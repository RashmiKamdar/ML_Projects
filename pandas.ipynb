{
 "cells": [
  {
   "cell_type": "code",
   "execution_count": 1,
   "id": "82dad679-a18d-4259-aa44-9a2bba881b27",
   "metadata": {},
   "outputs": [],
   "source": [
    "import pandas as pd"
   ]
  },
  {
   "cell_type": "code",
   "execution_count": 2,
   "id": "73af3033-5002-444a-9aed-bbd1aa2e801a",
   "metadata": {},
   "outputs": [],
   "source": [
    "data = {\n",
    "    'Name':['Alice','Bob','Charlie','David','Emily'],\n",
    "    'Age':[25,30,22,28,24],\n",
    "    'City':['New York','Los Angeles','Chicago','Houston','Miami']\n",
    "}"
   ]
  },
  {
   "cell_type": "code",
   "execution_count": 3,
   "id": "45e0d7eb-2b7f-4117-b73e-3160cedee23b",
   "metadata": {},
   "outputs": [],
   "source": [
    "df = pd.DataFrame(data)"
   ]
  },
  {
   "cell_type": "code",
   "execution_count": 4,
   "id": "ed6366ca-4a9f-4467-b613-1084708b7d53",
   "metadata": {},
   "outputs": [],
   "source": [
    "df.rename(columns={'Age':'Years'},inplace=True)"
   ]
  },
  {
   "cell_type": "code",
   "execution_count": 5,
   "id": "61c53ce7-9594-4049-a39a-46414a5f76e6",
   "metadata": {},
   "outputs": [],
   "source": [
    "columns_list=df.columns.tolist()"
   ]
  },
  {
   "cell_type": "code",
   "execution_count": 6,
   "id": "2f00482d-cc52-4366-ae0d-d70d4d8eb458",
   "metadata": {},
   "outputs": [
    {
     "name": "stdout",
     "output_type": "stream",
     "text": [
      "['Name', 'Years', 'City']\n"
     ]
    }
   ],
   "source": [
    "print(columns_list)"
   ]
  },
  {
   "cell_type": "code",
   "execution_count": 7,
   "id": "d65b2138-3c17-46ea-959d-5219acd8fd69",
   "metadata": {},
   "outputs": [],
   "source": [
    "df_dropped = df.drop(columns=['City'])"
   ]
  },
  {
   "cell_type": "code",
   "execution_count": 9,
   "id": "db0df825-ea9b-4f7b-89b3-b7025d591438",
   "metadata": {},
   "outputs": [],
   "source": [
    "df_inserted=df.copy()\n",
    "df_inserted.insert(1,'Gender',['Female','Male','Female','Male','Male'])"
   ]
  },
  {
   "cell_type": "code",
   "execution_count": 11,
   "id": "29ed56b9-cca6-4368-90ff-3d3a5924b7c2",
   "metadata": {},
   "outputs": [
    {
     "name": "stdout",
     "output_type": "stream",
     "text": [
      "Name     object\n",
      "Years     int64\n",
      "City     object\n",
      "dtype: object\n"
     ]
    }
   ],
   "source": [
    "data_types=df.dtypes\n",
    "print(data_types)"
   ]
  },
  {
   "cell_type": "code",
   "execution_count": 12,
   "id": "cc6cff47-dc7f-4f6f-9647-0ad4cfa687a1",
   "metadata": {},
   "outputs": [],
   "source": [
    "head_data=df.head()"
   ]
  },
  {
   "cell_type": "code",
   "execution_count": 13,
   "id": "aa34dd43-ce5b-4b2b-8d19-170131f6eb74",
   "metadata": {},
   "outputs": [
    {
     "name": "stdout",
     "output_type": "stream",
     "text": [
      "      Name  Years         City\n",
      "0    Alice     25     New York\n",
      "1      Bob     30  Los Angeles\n",
      "2  Charlie     22      Chicago\n",
      "3    David     28      Houston\n",
      "4    Emily     24        Miami\n"
     ]
    }
   ],
   "source": [
    "print(head_data)"
   ]
  },
  {
   "cell_type": "code",
   "execution_count": 14,
   "id": "f70d3418-5068-48d5-9bd3-e8e795d2f594",
   "metadata": {},
   "outputs": [],
   "source": [
    "tail_data=df.tail()"
   ]
  },
  {
   "cell_type": "code",
   "execution_count": 15,
   "id": "c98b89e4-7818-48a9-8cfc-39dc7cf94437",
   "metadata": {},
   "outputs": [
    {
     "name": "stdout",
     "output_type": "stream",
     "text": [
      "      Name  Years         City\n",
      "0    Alice     25     New York\n",
      "1      Bob     30  Los Angeles\n",
      "2  Charlie     22      Chicago\n",
      "3    David     28      Houston\n",
      "4    Emily     24        Miami\n"
     ]
    }
   ],
   "source": [
    "print(tail_data)"
   ]
  },
  {
   "cell_type": "code",
   "execution_count": 16,
   "id": "d5a561cd-e96b-477e-80a4-d01be1fd6eda",
   "metadata": {},
   "outputs": [
    {
     "name": "stdout",
     "output_type": "stream",
     "text": [
      "           Years\n",
      "count   5.000000\n",
      "mean   25.800000\n",
      "std     3.193744\n",
      "min    22.000000\n",
      "25%    24.000000\n",
      "50%    25.000000\n",
      "75%    28.000000\n",
      "max    30.000000\n"
     ]
    }
   ],
   "source": [
    "description=df.describe()\n",
    "print(description)"
   ]
  },
  {
   "cell_type": "code",
   "execution_count": 17,
   "id": "17b03f74-7cc3-4383-8f71-308592ed3d6c",
   "metadata": {},
   "outputs": [
    {
     "name": "stdout",
     "output_type": "stream",
     "text": [
      "<class 'pandas.core.frame.DataFrame'>\n",
      "RangeIndex: 5 entries, 0 to 4\n",
      "Data columns (total 3 columns):\n",
      " #   Column  Non-Null Count  Dtype \n",
      "---  ------  --------------  ----- \n",
      " 0   Name    5 non-null      object\n",
      " 1   Years   5 non-null      int64 \n",
      " 2   City    5 non-null      object\n",
      "dtypes: int64(1), object(2)\n",
      "memory usage: 248.0+ bytes\n",
      "None\n"
     ]
    }
   ],
   "source": [
    "info = df.info()\n",
    "print(info)"
   ]
  },
  {
   "cell_type": "code",
   "execution_count": 18,
   "id": "df743081-542b-41ec-8690-b4f248439d29",
   "metadata": {},
   "outputs": [
    {
     "name": "stdout",
     "output_type": "stream",
     "text": [
      "    Name  Years   City\n",
      "0  False  False  False\n",
      "1  False  False  False\n",
      "2  False  False  False\n",
      "3  False  False  False\n",
      "4  False  False  False\n"
     ]
    }
   ],
   "source": [
    "missing_values = df.isnull()\n",
    "print(missing_values)"
   ]
  },
  {
   "cell_type": "code",
   "execution_count": null,
   "id": "5e0917f0-db00-4b3c-94d5-a36b3109877a",
   "metadata": {},
   "outputs": [],
   "source": []
  }
 ],
 "metadata": {
  "kernelspec": {
   "display_name": "Python 3 (ipykernel)",
   "language": "python",
   "name": "python3"
  },
  "language_info": {
   "codemirror_mode": {
    "name": "ipython",
    "version": 3
   },
   "file_extension": ".py",
   "mimetype": "text/x-python",
   "name": "python",
   "nbconvert_exporter": "python",
   "pygments_lexer": "ipython3",
   "version": "3.11.1"
  }
 },
 "nbformat": 4,
 "nbformat_minor": 5
}
